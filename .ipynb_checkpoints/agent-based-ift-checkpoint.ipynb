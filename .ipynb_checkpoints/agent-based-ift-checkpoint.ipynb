{
 "cells": [
  {
   "cell_type": "markdown",
   "metadata": {},
   "source": [
    "# Incantations"
   ]
  },
  {
   "cell_type": "code",
   "execution_count": 1,
   "metadata": {
    "collapsed": false
   },
   "outputs": [
    {
     "name": "stderr",
     "output_type": "stream",
     "text": [
      "/Users/student/miniconda3/lib/python3.5/site-packages/matplotlib/__init__.py:872: UserWarning: axes.color_cycle is deprecated and replaced with axes.prop_cycle; please use the latter.\n",
      "  warnings.warn(self.msg_depr % (key, alt_key))\n"
     ]
    }
   ],
   "source": [
    "import numpy as np\n",
    "import matplotlib.pyplot as plt\n",
    "import random\n",
    "import seaborn as sns\n",
    "import time\n",
    "sns.set()\n",
    "%matplotlib inline"
   ]
  },
  {
   "cell_type": "markdown",
   "metadata": {},
   "source": [
    "# Representation of biological agents\n",
    "\n",
    "## creating the IFT environment\n",
    "I use the class Cell to create the environment on which IFT particles can move. A cell has attributes including length, transport speed, avalanching capability, and binding probabilities. Cells also have the functions sim() and time_step() that advance time."
   ]
  },
  {
   "cell_type": "code",
   "execution_count": 336,
   "metadata": {
    "collapsed": false
   },
   "outputs": [],
   "source": [
    "class Cell:\n",
    "    cells = []\n",
    "    \n",
    "    def __init__(self, L, N, trans_speed=5, k_on=.2, k_off=.2, \n",
    "                 avalanche_on=False, thresh=10, num_release = 5,\n",
    "                L_mod=False, build_size=10, decay_size=.1): #L is length, N is number of particles\n",
    "        self.L = L\n",
    "        self.trans_speed = trans_speed\n",
    "        self.k_on = k_on\n",
    "        self.k_off = k_off\n",
    "        self.N = N\n",
    "        self.motors = [Motor(self) for i in range(N)]\n",
    "        self.track_active = [0]\n",
    "        self.active50 = self.N\n",
    "        self.avalanche_on = avalanche_on\n",
    "        self.thresh = thresh\n",
    "        self.num_release = num_release\n",
    "        self.recruited = 0\n",
    "        self.L_mod = L_mod\n",
    "        self.build_size=build_size\n",
    "        self.decay_size=decay_size\n",
    "        self.L_trace=[self.L]\n",
    "        \n",
    "    def count_active(self):\n",
    "        return sum([p.isactive for p in self.motors])\n",
    "    \n",
    "    def sim(self, tot_time, terminate50 = True):\n",
    "        \n",
    "        for i in range(tot_time):\n",
    "            self.time_step()\n",
    "            self.track_active.append(self.count_active())\n",
    "            \n",
    "#             if self.active50 == self.N and self.count_active() <= self.N/2:\n",
    "#                 self.active50 = i\n",
    "#                 if terminate50:\n",
    "#                     return\n",
    "    \n",
    "    def time_step(self):\n",
    "#         print(self.count_active())\n",
    "        if self.avalanche_on:\n",
    "            self.avalanche()\n",
    "        \n",
    "        if self.L_mod:\n",
    "            if self.L >= self.decay_size:\n",
    "                self.L -= self.decay_size\n",
    "\n",
    "            self.L_trace.append(self.L)\n",
    "        \n",
    "        for p in self.motors:\n",
    "            \n",
    "            \n",
    "            if p.isactive:\n",
    "                if p.isbound:\n",
    "                    p.active_trans()\n",
    "                else:\n",
    "                    p.diffuse()\n",
    "#             else:\n",
    "#                 self.inactive += 1\n",
    "            p.track.append(p.pos)\n",
    "\n",
    "    def avalanche(self):\n",
    "        num_inactive = self.N - self.count_active()\n",
    "        inactive = [p for p in self.motors if not p.isactive]\n",
    "        if num_inactive > self.thresh:\n",
    "            for i in range(self.num_release):\n",
    "                inactive[i].isactive = True\n",
    "                inactive[i].isbound = True\n",
    "                \n",
    "                if self.L_mod:\n",
    "                    inactive[i].built = False\n",
    "            self.recruited += self.num_release\n",
    "\n",
    "    \n",
    "    def __repr__(self):\n",
    "        string = 'Cell of length %s populated by %d motors' %(self.L,self.N)                                                          \n",
    "        return string"
   ]
  },
  {
   "cell_type": "markdown",
   "metadata": {},
   "source": [
    "## representing kinesins as a class\n",
    "\n",
    "The class Motor represents a kinesin that populates the cell. Motors have the ability to diffuse or active transport."
   ]
  },
  {
   "cell_type": "code",
   "execution_count": 389,
   "metadata": {
    "collapsed": false
   },
   "outputs": [],
   "source": [
    "class Motor:\n",
    "    \n",
    "    instances = []\n",
    "    \n",
    "    def __init__(self, cell, isactive = True, isbound=True):\n",
    "        self.pos = 0\n",
    "        self.isactive = isactive\n",
    "        self.isbound = isbound\n",
    "        self.track = [0]\n",
    "        Motor.instances.append(self)\n",
    "        self.cell=cell\n",
    "        self.built = False\n",
    "    \n",
    "    def diffuse(self):\n",
    "        if self.isactive:\n",
    "            \n",
    "            if self.pos > self.cell.L: #for length decay\n",
    "                self.pos = self.cell.L\n",
    "            \n",
    "            if self.pos == self.cell.L:\n",
    "                self.binding()\n",
    "                \n",
    "                if self.cell.L_mod: \n",
    "                    \n",
    "                    if self.isbound == True:\n",
    "                        if self.built == False:\n",
    "                            self.cell.L += self.cell.build_size\n",
    "                            self.built = True\n",
    "                        \n",
    "                       \n",
    "                        elif self.built == True:\n",
    "                            self.pos -= 1\n",
    "                    \n",
    "                    elif self.isbound == False:\n",
    "                        self.pos += random.choice([-1,1])\n",
    "                \n",
    "#                  if self.isbound == False:\n",
    "# #                     self.pos -= 1\n",
    "#                             self.pos += random.choice([-1,1])\n",
    "                \n",
    "#                 print(self.isbound)\n",
    "                \n",
    "               \n",
    "#                 if not self.binding(): #check if it re-binds, don't move if it does\n",
    "# #                 print(self.isbound)\n",
    "                \n",
    "                    \n",
    "#             if self.pos == 0:\n",
    "#                 self.isactive = False #keep this for later, using avalanche model\n",
    "                \n",
    "#                 self.isbound = True\n",
    "                \n",
    "            else:\n",
    "                self.pos += random.choice([-1,1])\n",
    "#             self.track.append(self.pos)\n",
    "            \n",
    "            if self.pos <= 0:\n",
    "                self.isactive = False #keep this for later, using avalanche model\n",
    "                \n",
    "            \n",
    "    def active_trans(self):\n",
    "        if self.pos < self.cell.L:\n",
    "            self.pos += self.cell.trans_speed\n",
    "            self.pos = min(self.pos,self.cell.L)\n",
    "        if self.pos == self.cell.L:\n",
    "            self.isbound = False\n",
    "#         self.track.append(self.pos)\n",
    "\n",
    "    def binding(self):\n",
    "        roll = np.random.rand()\n",
    "        if self.isbound == False:\n",
    "            if roll < self.cell.k_on: #probability of binding to the IFT particle, stalling diffusion\n",
    "                self.isbound = True\n",
    "#                 print('bound!')\n",
    "        else: #if self.isbound == True\n",
    "            if roll < self.cell.k_off:\n",
    "                self.isbound = False\n",
    "#                 print('unbound!')\n",
    "                \n",
    "        return self.isbound #return the updated bound state\n",
    "    \n",
    "    def trace(self):\n",
    "        plt.plot(self.track);\n",
    "        plt.xlabel('time')\n",
    "        plt.ylabel('position')\n",
    "        \n",
    "    def __repr__(self):\n",
    "        string = 'Motor at position %s' %self.pos\n",
    "        return(string)"
   ]
  },
  {
   "cell_type": "markdown",
   "metadata": {},
   "source": [
    "### Example of cell creation and time simulation"
   ]
  },
  {
   "cell_type": "code",
   "execution_count": 219,
   "metadata": {
    "collapsed": true
   },
   "outputs": [],
   "source": [
    "new_cell=Cell(L=10,N=15)"
   ]
  },
  {
   "cell_type": "code",
   "execution_count": 220,
   "metadata": {
    "collapsed": false
   },
   "outputs": [],
   "source": [
    "new_cell.sim(100)"
   ]
  },
  {
   "cell_type": "code",
   "execution_count": 222,
   "metadata": {
    "collapsed": false
   },
   "outputs": [
    {
     "data": {
      "image/png": "[encoded data removed]",
      "text/plain": [
       "<matplotlib.figure.Figure at 0x25bf74828>"
      ]
     },
     "metadata": {},
     "output_type": "display_data"
    }
   ],
   "source": [
    "new_cell.motors[0].trace()\n",
    "plt.ylim(0);"
   ]
  },
  {
   "cell_type": "code",
   "execution_count": null,
   "metadata": {
    "collapsed": true
   },
   "outputs": [],
   "source": []
  },
  {
   "cell_type": "markdown",
   "metadata": {
    "collapsed": true
   },
   "source": [
    "# Diffusion back to base"
   ]
  },
  {
   "cell_type": "code",
   "execution_count": 36,
   "metadata": {
    "collapsed": false
   },
   "outputs": [
    {
     "name": "stdout",
     "output_type": "stream",
     "text": [
      "37.44108009338379\n",
      "66.11816501617432\n",
      "177.14642119407654\n",
      "424.6545271873474\n",
      "851.6623029708862\n"
     ]
    }
   ],
   "source": [
    "size_avgs=[]\n",
    "# sizes = [10,100,1000,10000]\n",
    "sizes = [10, 25, 50, 75, 100]\n",
    "num_sims = 100\n",
    "num_p = 300\n",
    "T = 10000\n",
    "timer=time.time()\n",
    "\n",
    "for length in sizes:\n",
    "    for i in range(num_sims):\n",
    "\n",
    "        t_list = np.zeros(num_sims)\n",
    "        c = Cell(L=length,N=num_p)\n",
    "        c.sim(T)\n",
    "        t_list[i]=(c.active50)\n",
    "    size_avgs.append(np.mean(t_list))\n",
    "    print(time.time()-timer)"
   ]
  },
  {
   "cell_type": "code",
   "execution_count": 37,
   "metadata": {
    "collapsed": false
   },
   "outputs": [
    {
     "data": {
      "image/png": "[encoded data removed]",
      "text/plain": [
       "<matplotlib.figure.Figure at 0x2ec763b00>"
      ]
     },
     "metadata": {},
     "output_type": "display_data"
    }
   ],
   "source": [
    "plt.plot(sizes,size_avgs);\n",
    "plt.xlabel('length');\n",
    "plt.ylabel('time to 50% inactive');"
   ]
  },
  {
   "cell_type": "code",
   "execution_count": 41,
   "metadata": {
    "collapsed": false
   },
   "outputs": [],
   "source": [
    "fit = np.polyfit(sizes,size_avgs,2)\n",
    "fitx = np.linspace(0,100,100)\n",
    "\n",
    "fity = [fit[0]*(x**2)+fit[1]*x for x in fitx]"
   ]
  },
  {
   "cell_type": "code",
   "execution_count": 42,
   "metadata": {
    "collapsed": false
   },
   "outputs": [
    {
     "data": {
      "image/png": "[encoded data removed]",
      "text/plain": [
       "<matplotlib.figure.Figure at 0x3e9a530b8>"
      ]
     },
     "metadata": {},
     "output_type": "display_data"
    }
   ],
   "source": [
    "plt.plot(sizes,size_avgs);\n",
    "plt.plot(fitx,fity)\n",
    "plt.xlabel('length');\n",
    "plt.ylabel('time to 50% inactive');\n"
   ]
  },
  {
   "cell_type": "code",
   "execution_count": 48,
   "metadata": {
    "collapsed": false
   },
   "outputs": [
    {
     "name": "stdout",
     "output_type": "stream",
     "text": [
      "0.007x^2 + 0.069x + -0.955\n"
     ]
    }
   ],
   "source": [
    "fitstr = '%sx^2 + %sx + %s' %(round(fit[0],3),round(fit[1],3), round(fit[2],3))\n",
    "print(fitstr)"
   ]
  },
  {
   "cell_type": "code",
   "execution_count": 54,
   "metadata": {
    "collapsed": false
   },
   "outputs": [
    {
     "data": {
      "text/plain": [
       "31.813333333333333"
      ]
     },
     "execution_count": 54,
     "metadata": {},
     "output_type": "execute_result"
    }
   ],
   "source": [
    "np.mean([p.pos for p in c.particles])"
   ]
  },
  {
   "cell_type": "markdown",
   "metadata": {},
   "source": [
    "don't touch above"
   ]
  },
  {
   "cell_type": "markdown",
   "metadata": {},
   "source": [
    "# Avalanching behavior"
   ]
  },
  {
   "cell_type": "code",
   "execution_count": 71,
   "metadata": {
    "collapsed": false
   },
   "outputs": [
    {
     "data": {
      "image/png": "[encoded data removed]",
      "text/plain": [
       "<matplotlib.figure.Figure at 0x107201278>"
      ]
     },
     "metadata": {},
     "output_type": "display_data"
    }
   ],
   "source": [
    "ava_cell.motors[4].trace()"
   ]
  },
  {
   "cell_type": "code",
   "execution_count": 69,
   "metadata": {
    "collapsed": true
   },
   "outputs": [],
   "source": [
    "ava_cell = Cell(L=10,N=100,avalanche_on=True)\n",
    "sim_steps = 100"
   ]
  },
  {
   "cell_type": "code",
   "execution_count": 70,
   "metadata": {
    "collapsed": false
   },
   "outputs": [],
   "source": [
    "ava_cell.sim(sim_steps)"
   ]
  },
  {
   "cell_type": "code",
   "execution_count": 74,
   "metadata": {
    "collapsed": false
   },
   "outputs": [
    {
     "data": {
      "text/plain": [
       "0.7"
      ]
     },
     "execution_count": 74,
     "metadata": {},
     "output_type": "execute_result"
    }
   ],
   "source": [
    "recruit_rate = ava_cell.recruited/sim_steps\n",
    "recruit_rate"
   ]
  },
  {
   "cell_type": "code",
   "execution_count": 141,
   "metadata": {
    "collapsed": false
   },
   "outputs": [],
   "source": [
    "sim_steps = 10000\n",
    "recruit_rates = []\n",
    "lengths = [5,10,11,12,15,17,20,25,30,40]\n",
    "for length in lengths:\n",
    "    cell=Cell(L=length, N=1000, avalanche_on=True)\n",
    "    cell.sim(sim_steps)\n",
    "    recruit_rates.append(cell.recruited/sim_steps)"
   ]
  },
  {
   "cell_type": "code",
   "execution_count": 154,
   "metadata": {
    "collapsed": true
   },
   "outputs": [
    {
     "data": {
      "image/png": "[encoded data removed]",
      "text/plain": [
       "<matplotlib.figure.Figure at 0x25b87b438>"
      ]
     },
     "metadata": {},
     "output_type": "display_data"
    }
   ],
   "source": [
    "plt.plot(lengths,recruit_rates);\n",
    "plt.xlabel('length');\n",
    "plt.ylabel('recruitment rate (motors/time)');\n",
    "plt.title('why the fuck does it look like this');"
   ]
  },
  {
   "cell_type": "code",
   "execution_count": 147,
   "metadata": {
    "collapsed": false
   },
   "outputs": [],
   "source": [
    "short = Cell(L=5,N=100, avalanche_on=True)\n",
    "short.sim(100)"
   ]
  },
  {
   "cell_type": "code",
   "execution_count": 149,
   "metadata": {
    "collapsed": false
   },
   "outputs": [
    {
     "data": {
      "image/png": "[encoded data removed]",
      "text/plain": [
       "<matplotlib.figure.Figure at 0x25bc21518>"
      ]
     },
     "metadata": {},
     "output_type": "display_data"
    }
   ],
   "source": [
    "short.motors[1].trace()"
   ]
  },
  {
   "cell_type": "code",
   "execution_count": null,
   "metadata": {
    "collapsed": true
   },
   "outputs": [],
   "source": []
  },
  {
   "cell_type": "code",
   "execution_count": null,
   "metadata": {
    "collapsed": true
   },
   "outputs": [],
   "source": []
  },
  {
   "cell_type": "code",
   "execution_count": null,
   "metadata": {
    "collapsed": true
   },
   "outputs": [],
   "source": []
  },
  {
   "cell_type": "markdown",
   "metadata": {},
   "source": [
    "goals: we know that when length increases, more motors are recruited. Can we understand this? Try implementing the avalanche model, modify length and see how recruitment changes.\n",
    "\n",
    "Also change 'particle' to motor"
   ]
  },
  {
   "cell_type": "code",
   "execution_count": null,
   "metadata": {
    "collapsed": true,
    "hide_input": false
   },
   "outputs": [],
   "source": []
  },
  {
   "cell_type": "markdown",
   "metadata": {
    "hide_input": false
   },
   "source": [
    "When the number of motors is comparable to the avalanche paramaters, the recruitment rate decreases in what looks like a power law or exponential decay."
   ]
  },
  {
   "cell_type": "code",
   "execution_count": 151,
   "metadata": {
    "collapsed": true,
    "hide_input": false
   },
   "outputs": [],
   "source": [
    "sim_steps = 10000\n",
    "recruit_rates = []\n",
    "lengths = [5,10,11,12,15,17,20,25,30,40]\n",
    "for length in lengths:\n",
    "    cell=Cell(L=length, N=50, avalanche_on=True)\n",
    "    cell.sim(sim_steps)\n",
    "    recruit_rates.append(cell.recruited/sim_steps)"
   ]
  },
  {
   "cell_type": "code",
   "execution_count": 155,
   "metadata": {
    "collapsed": false,
    "hide_input": false,
    "scrolled": true
   },
   "outputs": [
    {
     "data": {
      "image/png": "[encoded data removed]",
      "text/plain": [
       "<matplotlib.figure.Figure at 0x26c0c6ac8>"
      ]
     },
     "metadata": {},
     "output_type": "display_data"
    }
   ],
   "source": [
    "plt.plot(lengths,recruit_rates);\n",
    "plt.xlabel('length');\n",
    "plt.ylabel('recruitment rate (motors/time)');"
   ]
  },
  {
   "cell_type": "markdown",
   "metadata": {},
   "source": [
    "When the number of motors is much higher than the avalanche parameters, we have the same decay for high lengths, but we see a local maximum at fairly low lengths. See plot below."
   ]
  },
  {
   "cell_type": "code",
   "execution_count": 193,
   "metadata": {
    "collapsed": true
   },
   "outputs": [],
   "source": [
    "sim_steps = 10000\n",
    "recruit_rates_highN = []\n",
    "lengths = [5,10,11,12,15,17,20,25,30,40]\n",
    "for length in lengths:\n",
    "    cell=Cell(L=length, N=1000, avalanche_on=True)\n",
    "    cell.sim(sim_steps)\n",
    "    recruit_rates_highN.append(cell.recruited/sim_steps)"
   ]
  },
  {
   "cell_type": "code",
   "execution_count": 194,
   "metadata": {
    "collapsed": false
   },
   "outputs": [
    {
     "data": {
      "image/png": "[encoded data removed]",
      "text/plain": [
       "<matplotlib.figure.Figure at 0x2bb2552b0>"
      ]
     },
     "metadata": {},
     "output_type": "display_data"
    }
   ],
   "source": [
    "plt.plot(lengths,recruit_rates_highN);\n",
    "plt.xlabel('length');\n",
    "plt.ylabel('recruitment rate (motors/time)');"
   ]
  },
  {
   "cell_type": "code",
   "execution_count": 176,
   "metadata": {
    "collapsed": true
   },
   "outputs": [],
   "source": [
    "sim_steps = 10000\n",
    "cell_5=Cell(L=5, N=50, avalanche_on=True)\n",
    "cell_5.sim(sim_steps)\n",
    "rate_5 = cell_5.recruited/sim_steps"
   ]
  },
  {
   "cell_type": "code",
   "execution_count": 177,
   "metadata": {
    "collapsed": false
   },
   "outputs": [
    {
     "data": {
      "text/plain": [
       "1.425"
      ]
     },
     "execution_count": 177,
     "metadata": {},
     "output_type": "execute_result"
    }
   ],
   "source": [
    "rate_5"
   ]
  },
  {
   "cell_type": "code",
   "execution_count": 164,
   "metadata": {
    "collapsed": false
   },
   "outputs": [
    {
     "data": {
      "image/png": "[encoded data removed]",
      "text/plain": [
       "<matplotlib.figure.Figure at 0x26c1c3eb8>"
      ]
     },
     "metadata": {},
     "output_type": "display_data"
    }
   ],
   "source": [
    "cell_5.motors[0].trace()"
   ]
  },
  {
   "cell_type": "code",
   "execution_count": 174,
   "metadata": {
    "collapsed": true
   },
   "outputs": [],
   "source": [
    "sim_steps = 10000\n",
    "cell_11=Cell(L=11, N=50, avalanche_on=True)\n",
    "cell_11.sim(sim_steps)\n",
    "rate_11 = cell_11.recruited/sim_steps"
   ]
  },
  {
   "cell_type": "code",
   "execution_count": 172,
   "metadata": {
    "collapsed": false
   },
   "outputs": [
    {
     "data": {
      "image/png": "[encoded data removed]",
      "text/plain": [
       "<matplotlib.figure.Figure at 0x25b8de588>"
      ]
     },
     "metadata": {},
     "output_type": "display_data"
    }
   ],
   "source": [
    "cell_11.motors[5].trace()"
   ]
  },
  {
   "cell_type": "code",
   "execution_count": 175,
   "metadata": {
    "collapsed": false
   },
   "outputs": [
    {
     "data": {
      "text/plain": [
       "0.3265"
      ]
     },
     "execution_count": 175,
     "metadata": {},
     "output_type": "execute_result"
    }
   ],
   "source": [
    "rate_11"
   ]
  },
  {
   "cell_type": "code",
   "execution_count": 182,
   "metadata": {
    "collapsed": true
   },
   "outputs": [],
   "source": [
    "sim_steps = 10000\n",
    "cell_11_highN=Cell(L=11, N=1000, avalanche_on=True)\n",
    "cell_11_highN.sim(sim_steps)\n",
    "rate_11_highN = cell_11_highN.recruited/sim_steps"
   ]
  },
  {
   "cell_type": "code",
   "execution_count": 183,
   "metadata": {
    "collapsed": false
   },
   "outputs": [
    {
     "data": {
      "text/plain": [
       "4.9885"
      ]
     },
     "execution_count": 183,
     "metadata": {},
     "output_type": "execute_result"
    }
   ],
   "source": [
    "rate_11_highN"
   ]
  },
  {
   "cell_type": "code",
   "execution_count": 190,
   "metadata": {
    "collapsed": true
   },
   "outputs": [],
   "source": [
    "sim_steps = 10000\n",
    "cell_5_highN=Cell(L=5, N=1000, avalanche_on=True)\n",
    "cell_5_highN.sim(sim_steps)\n",
    "rate_5_highN = cell_5_highN.recruited/sim_steps"
   ]
  },
  {
   "cell_type": "code",
   "execution_count": 191,
   "metadata": {
    "collapsed": false
   },
   "outputs": [
    {
     "data": {
      "text/plain": [
       "4.9965"
      ]
     },
     "execution_count": 191,
     "metadata": {},
     "output_type": "execute_result"
    }
   ],
   "source": [
    "rate_5_highN"
   ]
  },
  {
   "cell_type": "code",
   "execution_count": 201,
   "metadata": {
    "collapsed": false
   },
   "outputs": [
    {
     "data": {
      "text/plain": [
       "[<matplotlib.lines.Line2D at 0x279607198>]"
      ]
     },
     "execution_count": 201,
     "metadata": {},
     "output_type": "execute_result"
    },
    {
     "data": {
      "image/png": "[encoded data removed]",
      "text/plain": [
       "<matplotlib.figure.Figure at 0x2bb2fca20>"
      ]
     },
     "metadata": {},
     "output_type": "display_data"
    }
   ],
   "source": [
    "plt.plot(np.log(lengths),np.log(recruit_rates))"
   ]
  },
  {
   "cell_type": "markdown",
   "metadata": {},
   "source": [
    "Below I calculate the fit of this curve and find that it is inverse square. Diffusion?"
   ]
  },
  {
   "cell_type": "code",
   "execution_count": 203,
   "metadata": {
    "collapsed": false
   },
   "outputs": [
    {
     "data": {
      "text/plain": [
       "array([-1.94644865,  3.52048873])"
      ]
     },
     "execution_count": 203,
     "metadata": {},
     "output_type": "execute_result"
    }
   ],
   "source": [
    "np.polyfit(np.log(lengths),np.log(recruit_rates),1) #power law -- inverse square!"
   ]
  },
  {
   "cell_type": "markdown",
   "metadata": {},
   "source": [
    "Notes from meeting 5 May 2015:\n",
    "\n",
    "Try building into the model:\n",
    "Every time motor gets to the tip, length increases. Length randomly decreases at each time step. See steady state length based on grow/shrink params.\n",
    "\n",
    "L=10um"
   ]
  },
  {
   "cell_type": "markdown",
   "metadata": {},
   "source": [
    "# Length alteration\n",
    "\n",
    "Here I will implement the length-changing system, in which motors will increase the length when they get to the tip, and the length will spontaneously decrease at each time interval."
   ]
  },
  {
   "cell_type": "code",
   "execution_count": 390,
   "metadata": {
    "collapsed": true
   },
   "outputs": [],
   "source": [
    "lmodcell=Cell(L=10,N=500,avalanche_on=True,L_mod=True)"
   ]
  },
  {
   "cell_type": "code",
   "execution_count": 391,
   "metadata": {
    "collapsed": false
   },
   "outputs": [],
   "source": [
    "lmodcell.sim(10000)"
   ]
  },
  {
   "cell_type": "code",
   "execution_count": 394,
   "metadata": {
    "collapsed": false
   },
   "outputs": [
    {
     "data": {
      "image/png": "[encoded data removed]",
      "text/plain": [
       "<matplotlib.figure.Figure at 0x3c33819b0>"
      ]
     },
     "metadata": {},
     "output_type": "display_data"
    }
   ],
   "source": [
    "# lmodcell.motors[1].trace()\n",
    "plt.plot(lmodcell.L_trace);"
   ]
  },
  {
   "cell_type": "markdown",
   "metadata": {},
   "source": [
    "Notes 5 May 2016:\n",
    "Graph above looks good, looks like steady state length! Check everything tomorrow, make sure what's going on is right. Maybe make a flowchart and track?"
   ]
  },
  {
   "cell_type": "code",
   "execution_count": 310,
   "metadata": {
    "collapsed": false
   },
   "outputs": [
    {
     "data": {
      "text/plain": [
       "201"
      ]
     },
     "execution_count": 310,
     "metadata": {},
     "output_type": "execute_result"
    }
   ],
   "source": [
    "len(lmodcell.motors[0].track)"
   ]
  },
  {
   "cell_type": "code",
   "execution_count": 311,
   "metadata": {
    "collapsed": false
   },
   "outputs": [
    {
     "data": {
      "text/plain": [
       "201"
      ]
     },
     "execution_count": 311,
     "metadata": {},
     "output_type": "execute_result"
    }
   ],
   "source": [
    "len(lmodcell.L_trace)"
   ]
  },
  {
   "cell_type": "code",
   "execution_count": 350,
   "metadata": {
    "collapsed": true
   },
   "outputs": [
    {
     "name": "stdout",
     "output_type": "stream",
     "text": [
      "3\n",
      "3487\n",
      "3490\n",
      "3503\n",
      "3506\n",
      "3516\n",
      "3543\n",
      "3847\n",
      "4057\n",
      "4083\n",
      "40887\n",
      "40893\n",
      "40909\n",
      "40913\n",
      "40919\n",
      "40921\n",
      "40933\n",
      "40939\n",
      "40955\n",
      "40957\n",
      "40961\n",
      "41092\n",
      "41100\n",
      "41110\n",
      "41237\n",
      "41347\n",
      "41361\n",
      "41365\n",
      "41918\n",
      "41941\n",
      "41946\n",
      "42154\n",
      "42156\n",
      "42160\n",
      "42230\n",
      "42250\n",
      "42264\n",
      "42358\n",
      "42399\n",
      "42411\n",
      "42414\n",
      "42420\n",
      "42496\n",
      "42504\n",
      "42508\n",
      "42752\n",
      "42766\n",
      "43311\n",
      "43332\n",
      "43361\n",
      "43389\n",
      "43393\n",
      "43395\n",
      "43615\n",
      "43621\n",
      "43731\n",
      "43735\n",
      "44267\n",
      "44269\n",
      "44281\n",
      "44441\n",
      "44463\n",
      "44475\n",
      "44479\n",
      "44487\n",
      "44807\n",
      "44811\n",
      "44813\n",
      "44890\n",
      "44894\n",
      "44898\n",
      "44900\n",
      "44902\n",
      "44904\n",
      "44906\n",
      "44908\n",
      "44934\n",
      "44968\n",
      "44998\n",
      "45008\n",
      "45010\n",
      "45014\n",
      "45016\n",
      "45018\n",
      "45058\n",
      "45066\n",
      "45106\n",
      "45112\n",
      "45297\n",
      "46454\n",
      "46523\n",
      "46525\n",
      "46585\n",
      "46614\n",
      "46620\n",
      "46628\n",
      "46634\n",
      "46640\n",
      "46642\n",
      "46646\n",
      "48412\n",
      "48420\n",
      "48422\n",
      "48470\n",
      "48474\n",
      "62382\n",
      "62384\n"
     ]
    }
   ],
   "source": [
    "overlap=0\n",
    "for i,a in enumerate(lmodcell.L_trace):\n",
    "    if lmodcell.L_trace[i] < lmodcell.motors[0].track[i]:\n",
    "        print(i)\n"
   ]
  },
  {
   "cell_type": "code",
   "execution_count": null,
   "metadata": {
    "collapsed": true
   },
   "outputs": [],
   "source": []
  }
 ],
 "metadata": {
  "kernelspec": {
   "display_name": "Python 3",
   "language": "python",
   "name": "python3"
  },
  "language_info": {
   "codemirror_mode": {
    "name": "ipython",
    "version": 3
   },
   "file_extension": ".py",
   "mimetype": "text/x-python",
   "name": "python",
   "nbconvert_exporter": "python",
   "pygments_lexer": "ipython3",
   "version": "3.5.0"
  },
  "toc": {
   "toc_cell": false,
   "toc_number_sections": true,
   "toc_threshold": 6,
   "toc_window_display": false
  }
 },
 "nbformat": 4,
 "nbformat_minor": 0
}
